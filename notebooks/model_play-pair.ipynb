{
 "cells": [
  {
   "cell_type": "code",
   "execution_count": 1,
   "metadata": {},
   "outputs": [],
   "source": [
    "# %load_ext autoreload\n",
    "# %autoreload 2\n",
    "\n",
    "import sys\n",
    "sys.path.append(\"../src\")\n",
    "\n",
    "import os\n",
    "os.environ['CUDA_VISIBLE_DEVICES'] = \"1\""
   ]
  },
  {
   "cell_type": "code",
   "execution_count": 2,
   "metadata": {},
   "outputs": [],
   "source": [
    "import pickle\n",
    "import tqdm\n",
    "import numpy as np\n",
    "import pandas as pd\n",
    "import networkx as nx\n",
    "from gensim.models import KeyedVectors as word2vec\n",
    "\n",
    "import torch\n",
    "from torch_geometric.utils import from_networkx\n",
    "from torch_geometric.data import DataLoader\n",
    "\n",
    "import torch.nn.functional as F\n",
    "from torch_geometric.data import DataLoader\n",
    "import torch_geometric.transforms as T\n",
    "from torch_geometric.nn import GATConv\n",
    "from torch_geometric.nn import GraphConv, TopKPooling\n",
    "from torch_geometric.nn import global_mean_pool as gap, global_max_pool as gmp\n",
    "\n",
    "\n",
    "from code_parser import *\n",
    "from dataset import CloneDatasetPair"
   ]
  },
  {
   "cell_type": "code",
   "execution_count": 3,
   "metadata": {},
   "outputs": [],
   "source": [
    "batch_size = 4\n",
    "num_workers = 2"
   ]
  },
  {
   "cell_type": "code",
   "execution_count": 4,
   "metadata": {},
   "outputs": [],
   "source": [
    "transform = T.NormalizeFeatures()\n",
    "train_dataset = CloneDatasetPair(root=\"../data/train_pair\", functions_path=\"../data/functions/\", pairs_path=\"../data/train.npz\")\n",
    "valid_dataset = CloneDatasetPair(root=\"../data/valid_pair\", functions_path=\"../data/functions/\", pairs_path=\"../data/valid.npz\")\n",
    "test_dataset = CloneDatasetPair(root=\"../data/test_pair\", functions_path=\"../data/functions/\", pairs_path=\"../data/test.npz\")"
   ]
  },
  {
   "cell_type": "code",
   "execution_count": 5,
   "metadata": {},
   "outputs": [],
   "source": [
    "test_loader = DataLoader(test_dataset, batch_size=batch_size,  follow_batch=['x_s', 'x_t'])\n",
    "val_loader = DataLoader(valid_dataset, batch_size=batch_size, num_workers=num_workers,  follow_batch=['x_s', 'x_t'])\n",
    "train_loader = DataLoader(train_dataset, batch_size=batch_size, num_workers=num_workers,  follow_batch=['x_s', 'x_t'])"
   ]
  },
  {
   "cell_type": "code",
   "execution_count": 6,
   "metadata": {},
   "outputs": [],
   "source": [
    "from dgmc.models import SplineCNN, RelCNN, DGMC\n",
    "device = torch.device('cpu')\n",
    "\n",
    "psi_1 = RelCNN(384, 128, 1, cat = False).to(device)\n",
    "psi_2 = RelCNN(384, 128, 1, cat = False).to(device)\n",
    "\n",
    "model = DGMC(psi_1, psi_2, num_steps=1, k=-1, detach=True).to(device)\n",
    "\n",
    "optimizer = torch.optim.Adam(model.parameters(), lr=0.00001)"
   ]
  },
  {
   "cell_type": "code",
   "execution_count": null,
   "metadata": {},
   "outputs": [
    {
     "name": "stdout",
     "output_type": "stream",
     "text": [
      "loss = 13.425775527954102; acc: 0.010479041916167664\r"
     ]
    }
   ],
   "source": [
    "def train(epoch):\n",
    "    model.train()\n",
    "\n",
    "    loss_all = 0\n",
    "    steps = 0\n",
    "    total_loss = total_examples = total_correct = 0\n",
    "    for data in train_loader:\n",
    "        data = data.to(device)\n",
    "        optimizer.zero_grad()\n",
    "        S_0, S_L = model(x_s=data.x_s,\n",
    "                         edge_index_s=data.edge_index_s,\n",
    "                         edge_attr_s=None,\n",
    "                         batch_s=None,\n",
    "                         x_t=data.x_t,\n",
    "                         edge_index_t=data.edge_index_t,\n",
    "                         edge_attr_t=None,\n",
    "                         batch_t=None,\n",
    "                         y=data.y)\n",
    "        \n",
    "        loss = model.loss(S_0, data.y)\n",
    "        loss = model.loss(S_L, data.y) + loss\n",
    "        loss.backward()\n",
    "        optimizer.step()\n",
    "    \n",
    "        loss_all += loss.item()\n",
    "        steps += 1\n",
    "        total_correct += model.acc(S_L, data.y, reduction='sum')\n",
    "        total_examples += data.y.size()[0]\n",
    "        \n",
    "        print(f\"loss = {loss.item()}; acc: {total_correct/total_examples}\", end=\"\\r\")\n",
    "        \n",
    "        del loss\n",
    "        del S_0\n",
    "        del S_L\n",
    "        del data\n",
    "        \n",
    "        torch.cuda.empty_cache() \n",
    "\n",
    "    return loss_all / len(step)\n",
    "train(1)"
   ]
  },
  {
   "cell_type": "code",
   "execution_count": null,
   "metadata": {},
   "outputs": [],
   "source": [
    "for data in train_loader:\n",
    "    break\n",
    "dir(data)"
   ]
  },
  {
   "cell_type": "code",
   "execution_count": null,
   "metadata": {},
   "outputs": [],
   "source": [
    "data.y.size()[0]"
   ]
  },
  {
   "cell_type": "code",
   "execution_count": null,
   "metadata": {},
   "outputs": [],
   "source": [
    "def train(epoch):\n",
    "    model.train()\n",
    "\n",
    "    loss_all = 0\n",
    "    for data in train_loader:\n",
    "        data = data.to(device)\n",
    "        optimizer.zero_grad()\n",
    "        output = model(data)\n",
    "        loss = F.nll_loss(output, data.y)\n",
    "        loss.backward()\n",
    "        print(f\"loss = {loss.item()}\", end=\"\\r\")\n",
    "        loss_all += data.num_graphs * loss.item()\n",
    "        optimizer.step()\n",
    "    return loss_all / len(train_dataset)\n",
    "\n",
    "\n",
    "@torch.no_grad()\n",
    "def test(loader):\n",
    "    model.eval()\n",
    "\n",
    "    correct = 0\n",
    "    for data in loader:\n",
    "        data = data.to(device)\n",
    "        pred = model(data).max(dim=1)[1]\n",
    "        correct += pred.eq(data.y).sum().item()\n",
    "    return correct / len(loader.dataset)\n"
   ]
  },
  {
   "cell_type": "code",
   "execution_count": null,
   "metadata": {},
   "outputs": [],
   "source": [
    "best_val_acc = 0\n",
    "for epoch in range(1, 201):\n",
    "    loss = train(epoch)\n",
    "    train_acc = test(train_loader)\n",
    "    val_acc = test(val_loader)\n",
    "    \n",
    "    if val_acc > best_val_acc:\n",
    "        best_val_acc = val_acc\n",
    "        torch.save(model.state_dict(), \"../data/pg_play_2.pt\")\n",
    "        \n",
    "    \n",
    "    print('Epoch: {:03d}, Loss: {:.5f}, Train Acc: {:.5f}, Val Acc: {:.5f}, Best: {:.5f}'.\n",
    "          format(epoch, loss, train_acc, val_acc, best_val_acc))"
   ]
  },
  {
   "cell_type": "markdown",
   "metadata": {},
   "source": []
  },
  {
   "cell_type": "code",
   "execution_count": null,
   "metadata": {},
   "outputs": [],
   "source": []
  },
  {
   "cell_type": "code",
   "execution_count": null,
   "metadata": {},
   "outputs": [],
   "source": []
  },
  {
   "cell_type": "code",
   "execution_count": null,
   "metadata": {},
   "outputs": [],
   "source": []
  }
 ],
 "metadata": {
  "kernelspec": {
   "display_name": "Python 3",
   "language": "python",
   "name": "python3"
  },
  "language_info": {
   "codemirror_mode": {
    "name": "ipython",
    "version": 3
   },
   "file_extension": ".py",
   "mimetype": "text/x-python",
   "name": "python",
   "nbconvert_exporter": "python",
   "pygments_lexer": "ipython3",
   "version": "3.7.7"
  }
 },
 "nbformat": 4,
 "nbformat_minor": 4
}
