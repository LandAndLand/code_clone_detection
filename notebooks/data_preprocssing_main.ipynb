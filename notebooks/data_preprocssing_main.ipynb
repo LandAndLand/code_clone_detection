{
 "cells": [
  {
   "cell_type": "code",
   "execution_count": 1,
   "metadata": {},
   "outputs": [],
   "source": [
    "import sys\n",
    "sys.path.append(\"../src/\")"
   ]
  },
  {
   "cell_type": "code",
   "execution_count": 9,
   "metadata": {},
   "outputs": [],
   "source": [
    "from code_parser import *\n",
    "import pandas as pd\n",
    "import tqdm\n",
    "import networkx as nx\n",
    "import numpy as np\n",
    "import fasttext as ft\n",
    "import pickle\n",
    "from gensim.models import KeyedVectors as word2vec\n",
    "from sklearn.model_selection import train_test_split"
   ]
  },
  {
   "cell_type": "code",
   "execution_count": 3,
   "metadata": {},
   "outputs": [],
   "source": [
    "all_funcs_data_path = '../data/bcb_funcs_all.tsv'\n",
    "parser_path = '../data/java.so'"
   ]
  },
  {
   "cell_type": "code",
   "execution_count": 4,
   "metadata": {},
   "outputs": [],
   "source": [
    "all_funcs = pd.read_csv(all_funcs_data_path, delimiter=\"\\t\", header=None)\n",
    "parser = get_parser(parser_path)"
   ]
  },
  {
   "cell_type": "code",
   "execution_count": 5,
   "metadata": {},
   "outputs": [
    {
     "data": {
      "application/vnd.jupyter.widget-view+json": {
       "model_id": "69391af17e364ad4945f5677974eaad9",
       "version_major": 2,
       "version_minor": 0
      },
      "text/plain": [
       "HBox(children=(FloatProgress(value=1.0, bar_style='info', max=1.0), HTML(value='')))"
      ]
     },
     "metadata": {},
     "output_type": "display_data"
    },
    {
     "name": "stdout",
     "output_type": "stream",
     "text": [
      "\n"
     ]
    }
   ],
   "source": [
    "processed_functions = {}\n",
    "for index, row in tqdm.notebook.tqdm(all_funcs.iterrows()):\n",
    "    processed_function = parse_program(row[1], parser)\n",
    "    processed_functions[row[0]] = processed_function"
   ]
  },
  {
   "cell_type": "code",
   "execution_count": 6,
   "metadata": {},
   "outputs": [],
   "source": [
    "# with open(\"../data/all_funcs_parsed_ast.pkl\", \"wb\") as f:\n",
    "#     import pickle\n",
    "#     pickle.dump(processed_functions, f)"
   ]
  },
  {
   "cell_type": "code",
   "execution_count": 7,
   "metadata": {},
   "outputs": [],
   "source": [
    "# with open(\"../all_functions_parsed_ast.pkl\", \"rb\") as f:\n",
    "#     import pickle\n",
    "#     processed_functions = pickle.load(f)"
   ]
  },
  {
   "cell_type": "code",
   "execution_count": 8,
   "metadata": {},
   "outputs": [
    {
     "data": {
      "application/vnd.jupyter.widget-view+json": {
       "model_id": "eea4aa060fc648d5b0f94eb5a051d66c",
       "version_major": 2,
       "version_minor": 0
      },
      "text/plain": [
       "HBox(children=(FloatProgress(value=0.0, max=59618.0), HTML(value='')))"
      ]
     },
     "metadata": {},
     "output_type": "display_data"
    },
    {
     "name": "stdout",
     "output_type": "stream",
     "text": [
      "\n"
     ]
    }
   ],
   "source": [
    "processed_functions2 = {} # nodes\n",
    "# processed_functions3 = {} # numbered\n",
    "\n",
    "for key in tqdm.notebook.tqdm(processed_functions):\n",
    "    g = processed_functions[key]\n",
    "    mapping = { node: node.name.lower() for node in g.nodes }\n",
    "    \n",
    "    g1 = nx.relabel_nodes(g, mapping)\n",
    "    processed_functions2[key] = g1\n",
    "    \n",
    "    #g2 = nx.convert_node_labels_to_integers(g)\n",
    "    #processed_functions3[key] = g2"
   ]
  },
  {
   "cell_type": "code",
   "execution_count": 22,
   "metadata": {},
   "outputs": [],
   "source": [
    "with open(\"../data/all_funcs_parsed_ast_int_label_1.pkl\", \"wb\") as f:\n",
    "    import pickle\n",
    "    pickle.dump(processed_functions3, f)"
   ]
  },
  {
   "cell_type": "code",
   "execution_count": 10,
   "metadata": {},
   "outputs": [
    {
     "data": {
      "application/vnd.jupyter.widget-view+json": {
       "model_id": "30c272efceae4663b94bbe1afafc47ff",
       "version_major": 2,
       "version_minor": 0
      },
      "text/plain": [
       "HBox(children=(FloatProgress(value=0.0, max=59618.0), HTML(value='')))"
      ]
     },
     "metadata": {},
     "output_type": "display_data"
    },
    {
     "name": "stdout",
     "output_type": "stream",
     "text": [
      "\n"
     ]
    }
   ],
   "source": [
    "nodes = list()\n",
    "for key in tqdm.notebook.tqdm(processed_functions2):\n",
    "    nodes.extend(list(processed_functions2[key].nodes))"
   ]
  },
  {
   "cell_type": "code",
   "execution_count": 11,
   "metadata": {},
   "outputs": [],
   "source": [
    "from collections import Counter, OrderedDict\n",
    "freqs = OrderedDict({k: v for k, v in sorted(Counter(nodes).items(), reverse=True, key=lambda item: item[1])})"
   ]
  },
  {
   "cell_type": "code",
   "execution_count": 12,
   "metadata": {},
   "outputs": [],
   "source": [
    "total_vocab_size = len(freqs)"
   ]
  },
  {
   "cell_type": "code",
   "execution_count": 13,
   "metadata": {},
   "outputs": [
    {
     "name": "stderr",
     "output_type": "stream",
     "text": [
      "Warning : `load_model` does not return WordVectorModel or SupervisedModel any more, but a `FastText` object which is very similar.\n"
     ]
    }
   ],
   "source": [
    "import fasttext as ft\n",
    "model = ft.load_model(\"fasttext.bin\")"
   ]
  },
  {
   "cell_type": "code",
   "execution_count": 14,
   "metadata": {},
   "outputs": [],
   "source": [
    "word2idx = {}\n",
    "idx2word = {}\n",
    "idx2vectors = {}\n",
    "counter = 0\n",
    "idx = 1\n",
    "for key in freqs:\n",
    "    token = key.lower().strip()\n",
    "    word2idx[token] = idx\n",
    "    idx2word[idx] = token\n",
    "    idx2vectors[idx] = model[token]\n",
    "    idx += 1"
   ]
  },
  {
   "cell_type": "code",
   "execution_count": null,
   "metadata": {},
   "outputs": [],
   "source": []
  },
  {
   "cell_type": "code",
   "execution_count": 15,
   "metadata": {},
   "outputs": [
    {
     "data": {
      "text/plain": [
       "288180"
      ]
     },
     "execution_count": 15,
     "metadata": {},
     "output_type": "execute_result"
    }
   ],
   "source": [
    "len(word2idx)"
   ]
  },
  {
   "cell_type": "code",
   "execution_count": 16,
   "metadata": {},
   "outputs": [
    {
     "data": {
      "application/vnd.jupyter.widget-view+json": {
       "model_id": "32cd6cf6d38c474cae9bb8ca6f0eac03",
       "version_major": 2,
       "version_minor": 0
      },
      "text/plain": [
       "HBox(children=(FloatProgress(value=0.0, max=59618.0), HTML(value='')))"
      ]
     },
     "metadata": {},
     "output_type": "display_data"
    },
    {
     "name": "stdout",
     "output_type": "stream",
     "text": [
      "\n"
     ]
    }
   ],
   "source": [
    "processed_functions4 = {}\n",
    "for key in tqdm.notebook.tqdm(processed_functions):\n",
    "    g = processed_functions[key]\n",
    "    \n",
    "    for node in g.nodes:\n",
    "        token = node.name.strip().lower()\n",
    "        g.add_node(node, data=model[token], idx=word2idx[token])\n",
    "\n",
    "    g1 = nx.convert_node_labels_to_integers(g)\n",
    "    processed_functions4[key] = g1"
   ]
  },
  {
   "cell_type": "code",
   "execution_count": null,
   "metadata": {},
   "outputs": [],
   "source": []
  },
  {
   "cell_type": "code",
   "execution_count": 28,
   "metadata": {},
   "outputs": [
    {
     "data": {
      "application/vnd.jupyter.widget-view+json": {
       "model_id": "da4c8ee9b7244a73aa56b1ad320a9351",
       "version_major": 2,
       "version_minor": 0
      },
      "text/plain": [
       "HBox(children=(FloatProgress(value=0.0, max=59618.0), HTML(value='')))"
      ]
     },
     "metadata": {},
     "output_type": "display_data"
    },
    {
     "name": "stdout",
     "output_type": "stream",
     "text": [
      "\n"
     ]
    }
   ],
   "source": [
    "for key in tqdm.notebook.tqdm(processed_functions4):\n",
    "    g = processed_functions4[key]\n",
    "    g = nx.to_undirected(g)\n",
    "    nx.write_gpickle(g, f\"../data/networkx_data_idx/{key}\")"
   ]
  },
  {
   "cell_type": "code",
   "execution_count": 24,
   "metadata": {},
   "outputs": [
    {
     "data": {
      "application/vnd.jupyter.widget-view+json": {
       "model_id": "67aba1208b2d4fe1a67667d47166ffc1",
       "version_major": 2,
       "version_minor": 0
      },
      "text/plain": [
       "HBox(children=(FloatProgress(value=0.0, max=59618.0), HTML(value='')))"
      ]
     },
     "metadata": {},
     "output_type": "display_data"
    },
    {
     "name": "stdout",
     "output_type": "stream",
     "text": [
      "\n"
     ]
    }
   ],
   "source": [
    "processed_functions5 = {}\n",
    "for key in tqdm.notebook.tqdm(processed_functions):\n",
    "    g = processed_functions[key]\n",
    "    for node in g.nodes:\n",
    "        token = node.name.strip().lower()\n",
    "        g.add_node(node, idx=word2idx[token])\n",
    "    g1 = nx.convert_node_labels_to_integers(g)\n",
    "    processed_functions5[key] = g1"
   ]
  },
  {
   "cell_type": "code",
   "execution_count": 27,
   "metadata": {},
   "outputs": [
    {
     "data": {
      "application/vnd.jupyter.widget-view+json": {
       "model_id": "2b62ff22d1ca4aefacb30b608b5ff477",
       "version_major": 2,
       "version_minor": 0
      },
      "text/plain": [
       "HBox(children=(FloatProgress(value=0.0, max=59618.0), HTML(value='')))"
      ]
     },
     "metadata": {},
     "output_type": "display_data"
    },
    {
     "name": "stdout",
     "output_type": "stream",
     "text": [
      "\n"
     ]
    }
   ],
   "source": [
    "for key in tqdm.notebook.tqdm(processed_functions5):\n",
    "    g = processed_functions5[key]\n",
    "    g = nx.to_undirected(g)\n",
    "    nx.write_gpickle(g, f\"../data/networkx_idx/{key}\")"
   ]
  },
  {
   "cell_type": "code",
   "execution_count": 25,
   "metadata": {},
   "outputs": [],
   "source": [
    "! mkdir ../data/networkx_idx/"
   ]
  },
  {
   "cell_type": "code",
   "execution_count": 138,
   "metadata": {},
   "outputs": [],
   "source": [
    "text = \"\"\n",
    "for key in processed_functions:\n",
    "    g = processed_functions[key]\n",
    "    text += \"\\n\" + \" \".join([node.name.strip() for node in nx.dfs_preorder_nodes(g)])"
   ]
  },
  {
   "cell_type": "code",
   "execution_count": 139,
   "metadata": {},
   "outputs": [],
   "source": [
    "f = open(\"../data/code.txt\", \"w\")\n",
    "f.write(text)\n",
    "f.close()"
   ]
  },
  {
   "cell_type": "code",
   "execution_count": 1,
   "metadata": {},
   "outputs": [],
   "source": [
    "import fasttext as ft\n",
    "model = ft.train_unsupervised(\"../data/code.txt\", dim=256, ws=10, minCount=3, wordNgrams=3, thread=40, epoch=10, verbose=5, lr=0.01)"
   ]
  },
  {
   "cell_type": "code",
   "execution_count": 5,
   "metadata": {},
   "outputs": [
    {
     "data": {
      "text/plain": [
       "[(0.6981577277183533, 'addj'),\n",
       " (0.6771022081375122, 'addG'),\n",
       " (0.676001787185669, 'addNr'),\n",
       " (0.6736781001091003, 'addee'),\n",
       " (0.6717252731323242, 'addy'),\n",
       " (0.6594294905662537, 'addBLM'),\n",
       " (0.65911865234375, 'addIp'),\n",
       " (0.6573836207389832, 'addOn'),\n",
       " (0.6565410494804382, 'addKV'),\n",
       " (0.6522443890571594, 'addBPMs')]"
      ]
     },
     "execution_count": 5,
     "metadata": {},
     "output_type": "execute_result"
    }
   ],
   "source": [
    "model.get_nearest_neighbors(\"%quickref)"
   ]
  },
  {
   "cell_type": "code",
   "execution_count": 34,
   "metadata": {},
   "outputs": [],
   "source": [
    "model.save_model(\"../data/fasttext.bin\")"
   ]
  },
  {
   "cell_type": "code",
   "execution_count": null,
   "metadata": {},
   "outputs": [],
   "source": []
  },
  {
   "cell_type": "code",
   "execution_count": null,
   "metadata": {},
   "outputs": [],
   "source": []
  }
 ],
 "metadata": {
  "kernelspec": {
   "display_name": "Python 3",
   "language": "python",
   "name": "python3"
  },
  "language_info": {
   "codemirror_mode": {
    "name": "ipython",
    "version": 3
   },
   "file_extension": ".py",
   "mimetype": "text/x-python",
   "name": "python",
   "nbconvert_exporter": "python",
   "pygments_lexer": "ipython3",
   "version": "3.7.7"
  }
 },
 "nbformat": 4,
 "nbformat_minor": 4
}
