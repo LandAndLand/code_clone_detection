{
 "cells": [
  {
   "cell_type": "code",
   "execution_count": 1,
   "metadata": {},
   "outputs": [],
   "source": [
    "import sys\n",
    "sys.path.append(\"../src\")\n",
    "\n",
    "# import os\n",
    "# os.environ['CUDA_VISIBLE_DEVICES'] = \"1\""
   ]
  },
  {
   "cell_type": "code",
   "execution_count": 2,
   "metadata": {},
   "outputs": [
    {
     "name": "stderr",
     "output_type": "stream",
     "text": [
      "Using backend: pytorch\n"
     ]
    }
   ],
   "source": [
    "import os\n",
    "from argparse import ArgumentParser\n",
    "\n",
    "import dgl\n",
    "import pytorch_lightning as pl\n",
    "import torch.nn as nn\n",
    "import torch.nn.functional as F\n",
    "from dgl.nn.pytorch import GraphConv\n",
    "from torch.utils.data import DataLoader\n",
    "\n",
    "from code_parser import *\n",
    "from dgl_dataset import CloneDataset"
   ]
  },
  {
   "cell_type": "code",
   "execution_count": 3,
   "metadata": {},
   "outputs": [],
   "source": [
    "\"\"\"\n",
    "Improved Semantic Representations From Tree-Structured Long Short-Term Memory Networks\n",
    "https://arxiv.org/abs/1503.00075\n",
    "\"\"\"\n",
    "import time\n",
    "import itertools\n",
    "import networkx as nx\n",
    "import numpy as np\n",
    "import torch as th\n",
    "import torch.nn as nn\n",
    "import torch.nn.functional as F\n",
    "import dgl\n",
    "\n",
    "class TreeLSTMCell(nn.Module):\n",
    "    def __init__(self, x_size, h_size):\n",
    "        super(TreeLSTMCell, self).__init__()\n",
    "        self.W_iou = nn.Linear(x_size, 3 * h_size, bias=False)\n",
    "        self.U_iou = nn.Linear(2 * h_size, 3 * h_size, bias=False)\n",
    "        self.b_iou = nn.Parameter(th.zeros(1, 3 * h_size))\n",
    "        self.U_f = nn.Linear(2 * h_size, 2 * h_size)\n",
    "\n",
    "    def message_func(self, edges):\n",
    "        return {'h': edges.src['h'], 'c': edges.src['c']}\n",
    "\n",
    "    def reduce_func(self, nodes):\n",
    "        h_cat = nodes.mailbox['h'].view(nodes.mailbox['h'].size(0), -1)\n",
    "        f = th.sigmoid(self.U_f(h_cat)).view(*nodes.mailbox['h'].size())\n",
    "        c = th.sum(f * nodes.mailbox['c'], 1)\n",
    "        return {'iou': self.U_iou(h_cat), 'c': c}\n",
    "\n",
    "    def apply_node_func(self, nodes):\n",
    "        iou = nodes.data['iou'] + self.b_iou\n",
    "        i, o, u = th.chunk(iou, 3, 1)\n",
    "        i, o, u = th.sigmoid(i), th.sigmoid(o), th.tanh(u)\n",
    "        c = i * u + nodes.data['c']\n",
    "        h = o * th.tanh(c)\n",
    "        return {'h' : h, 'c' : c}\n",
    "\n",
    "class ChildSumTreeLSTMCell(nn.Module):\n",
    "    def __init__(self, x_size, h_size):\n",
    "        super(ChildSumTreeLSTMCell, self).__init__()\n",
    "        self.W_iou = nn.Linear(x_size, 3 * h_size, bias=False)\n",
    "        self.U_iou = nn.Linear(h_size, 3 * h_size, bias=False)\n",
    "        self.b_iou = nn.Parameter(th.zeros(1, 3 * h_size))\n",
    "        self.U_f = nn.Linear(h_size, h_size)\n",
    "\n",
    "    def message_func(self, edges):\n",
    "        return {'h': edges.src['h'], 'c': edges.src['c']}\n",
    "\n",
    "    def reduce_func(self, nodes):\n",
    "        h_tild = th.sum(nodes.mailbox['h'], 1)\n",
    "        f = th.sigmoid(self.U_f(nodes.mailbox['h']))\n",
    "        c = th.sum(f * nodes.mailbox['c'], 1)\n",
    "        return {'iou': self.U_iou(h_tild), 'c': c}\n",
    "\n",
    "    def apply_node_func(self, nodes):\n",
    "        iou = nodes.data['iou'] + self.b_iou\n",
    "        i, o, u = th.chunk(iou, 3, 1)\n",
    "        i, o, u = th.sigmoid(i), th.sigmoid(o), th.tanh(u)\n",
    "        c = i * u + nodes.data['c']\n",
    "        h = o * th.tanh(c)\n",
    "        return {'h': h, 'c': c}\n",
    "\n",
    "class TreeLSTM(nn.Module):\n",
    "    def __init__(self,\n",
    "                 num_vocabs,\n",
    "                 x_size,\n",
    "                 h_size,\n",
    "                 num_classes,\n",
    "                 dropout,\n",
    "                 cell_type='nary',\n",
    "                 pretrained_emb=None):\n",
    "        super(TreeLSTM, self).__init__()\n",
    "        self.x_size = x_size\n",
    "        self.embedding = nn.Embedding(num_vocabs, x_size)\n",
    "        if pretrained_emb is not None:\n",
    "            print('Using glove')\n",
    "            self.embedding.weight.data.copy_(pretrained_emb)\n",
    "            self.embedding.weight.requires_grad = True\n",
    "        self.dropout = nn.Dropout(dropout)\n",
    "        self.linear = nn.Linear(h_size, num_classes)\n",
    "        cell = TreeLSTMCell if cell_type == 'nary' else ChildSumTreeLSTMCell\n",
    "        self.cell = cell(x_size, h_size)\n",
    "\n",
    "    def forward(self, batch, h, c):\n",
    "        \"\"\"Compute tree-lstm prediction given a batch.\n",
    "        Parameters\n",
    "        ----------\n",
    "        batch : dgl.data.SSTBatch\n",
    "            The data batch.\n",
    "        h : Tensor\n",
    "            Initial hidden state.\n",
    "        c : Tensor\n",
    "            Initial cell state.\n",
    "        Returns\n",
    "        -------\n",
    "        logits : Tensor\n",
    "            The prediction of each node.\n",
    "        \"\"\"\n",
    "        g = batch.graph\n",
    "        g.register_message_func(self.cell.message_func)\n",
    "        g.register_reduce_func(self.cell.reduce_func)\n",
    "        g.register_apply_node_func(self.cell.apply_node_func)\n",
    "        # feed embedding\n",
    "        embeds = self.embedding(batch.wordid * batch.mask)\n",
    "        g.ndata['iou'] = self.cell.W_iou(self.dropout(embeds)) * batch.mask.float().unsqueeze(-1)\n",
    "        g.ndata['h'] = h\n",
    "        g.ndata['c'] = c\n",
    "        # propagate\n",
    "        dgl.prop_nodes_topo(g)\n",
    "        # compute logits\n",
    "        h = self.dropout(g.ndata.pop('h'))\n",
    "        logits = self.linear(h)\n",
    "        return logits"
   ]
  },
  {
   "cell_type": "code",
   "execution_count": 4,
   "metadata": {},
   "outputs": [],
   "source": [
    "    params = dict(\n",
    "        learning_rate=0.0001,\n",
    "        batch_size=32,\n",
    "        workers=32,\n",
    "        num_classes=6,\n",
    "        num_features=384,\n",
    "        hidden_dim=284,\n",
    "        gpu=\"\",\n",
    "        root=\"../data/\",\n",
    "    )\n",
    "    from argparse import Namespace\n",
    "\n",
    "    hparams = Namespace(**params)\n",
    "\n",
    "    model = NetBasic(hparams)"
   ]
  },
  {
   "cell_type": "code",
   "execution_count": null,
   "metadata": {
    "scrolled": true
   },
   "outputs": [
    {
     "name": "stderr",
     "output_type": "stream",
     "text": [
      "GPU available: True, used: False\n",
      "No environment variable for node rank defined. Set as 0.\n",
      "\n",
      "  | Name     | Type      | Params\n",
      "-----------------------------------\n",
      "0 | conv1    | GraphConv | 109 K \n",
      "1 | conv2    | GraphConv | 80 K  \n",
      "2 | conv3    | GraphConv | 80 K  \n",
      "3 | classify | Linear    | 3 K   \n"
     ]
    },
    {
     "data": {
      "application/vnd.jupyter.widget-view+json": {
       "model_id": "",
       "version_major": 2,
       "version_minor": 0
      },
      "text/plain": [
       "HBox(children=(FloatProgress(value=1.0, bar_style='info', description='Validation sanity check', layout=Layout…"
      ]
     },
     "metadata": {},
     "output_type": "display_data"
    },
    {
     "name": "stdout",
     "output_type": "stream",
     "text": [
      "\r"
     ]
    },
    {
     "data": {
      "application/vnd.jupyter.widget-view+json": {
       "model_id": "a0b0bb83efba403a9474189681291e92",
       "version_major": 2,
       "version_minor": 0
      },
      "text/plain": [
       "HBox(children=(FloatProgress(value=1.0, bar_style='info', description='Training', layout=Layout(flex='2'), max…"
      ]
     },
     "metadata": {},
     "output_type": "display_data"
    }
   ],
   "source": [
    "from pytorch_lightning import Trainer\n",
    "\n",
    "# most basic trainer, uses good defaults\n",
    "trainer = Trainer(\n",
    "    gpus=0,\n",
    "     max_epochs=100,\n",
    ")\n",
    "trainer.fit(\n",
    "    model,\n",
    "   \n",
    ")"
   ]
  },
  {
   "cell_type": "code",
   "execution_count": null,
   "metadata": {},
   "outputs": [],
   "source": []
  },
  {
   "cell_type": "code",
   "execution_count": null,
   "metadata": {},
   "outputs": [],
   "source": []
  }
 ],
 "metadata": {
  "kernelspec": {
   "display_name": "Python 3",
   "language": "python",
   "name": "python3"
  },
  "language_info": {
   "codemirror_mode": {
    "name": "ipython",
    "version": 3
   },
   "file_extension": ".py",
   "mimetype": "text/x-python",
   "name": "python",
   "nbconvert_exporter": "python",
   "pygments_lexer": "ipython3",
   "version": "3.7.7"
  }
 },
 "nbformat": 4,
 "nbformat_minor": 4
}
