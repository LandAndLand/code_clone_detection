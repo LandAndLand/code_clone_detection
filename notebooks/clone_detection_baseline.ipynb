{
 "cells": [
  {
   "cell_type": "code",
   "execution_count": 7,
   "metadata": {},
   "outputs": [],
   "source": [
    "import tensorflow as tf\n",
    "# import tensorflow_addons as tfa\n",
    "import keras\n",
    "import pandas as pd\n",
    "import pickle\n",
    "import string\n",
    "import numpy as np\n",
    "from gensim.models import KeyedVectors as word2vec\n",
    "from keras.utils import to_categorical\n",
    "from sklearn.model_selection import train_test_split\n",
    "import fasttext as ft"
   ]
  },
  {
   "cell_type": "code",
   "execution_count": 2,
   "metadata": {},
   "outputs": [],
   "source": [
    "vectors_text_path = '../data/target_vecs.txt'\n",
    "all_funcs_data_path = '../data/bcb_funcs_all.tsv'\n",
    "pairs_id_path = '../data/bcb_pair_ids.pkl'"
   ]
  },
  {
   "cell_type": "code",
   "execution_count": 3,
   "metadata": {},
   "outputs": [],
   "source": [
    "embeddings_dim = 256\n",
    "max_sequence_length = 32\n",
    "output_dim = 6"
   ]
  },
  {
   "cell_type": "code",
   "execution_count": 4,
   "metadata": {},
   "outputs": [],
   "source": [
    "all_funcs = pd.read_csv(all_funcs_data_path, delimiter=\"\\t\",header=None)\n",
    "with open(pairs_id_path, 'rb') as f:\n",
    "    pair_ids = pickle.load(f).to_numpy()"
   ]
  },
  {
   "cell_type": "code",
   "execution_count": 5,
   "metadata": {},
   "outputs": [
    {
     "data": {
      "text/html": [
       "<div>\n",
       "<style scoped>\n",
       "    .dataframe tbody tr th:only-of-type {\n",
       "        vertical-align: middle;\n",
       "    }\n",
       "\n",
       "    .dataframe tbody tr th {\n",
       "        vertical-align: top;\n",
       "    }\n",
       "\n",
       "    .dataframe thead th {\n",
       "        text-align: right;\n",
       "    }\n",
       "</style>\n",
       "<table border=\"1\" class=\"dataframe\">\n",
       "  <thead>\n",
       "    <tr style=\"text-align: right;\">\n",
       "      <th></th>\n",
       "      <th>0</th>\n",
       "      <th>1</th>\n",
       "    </tr>\n",
       "  </thead>\n",
       "  <tbody>\n",
       "    <tr>\n",
       "      <th>0</th>\n",
       "      <td>74</td>\n",
       "      <td>static void copy(String src, String dest) ...</td>\n",
       "    </tr>\n",
       "    <tr>\n",
       "      <th>1</th>\n",
       "      <td>661</td>\n",
       "      <td>public void convert(File src, File dest) t...</td>\n",
       "    </tr>\n",
       "    <tr>\n",
       "      <th>2</th>\n",
       "      <td>1362</td>\n",
       "      <td>public static int[] bubbleSort(int... a) {...</td>\n",
       "    </tr>\n",
       "    <tr>\n",
       "      <th>3</th>\n",
       "      <td>1363</td>\n",
       "      <td>public static int[] bubbleSortOtimizado(in...</td>\n",
       "    </tr>\n",
       "    <tr>\n",
       "      <th>4</th>\n",
       "      <td>2450</td>\n",
       "      <td>public void process(String dir) {\\n       ...</td>\n",
       "    </tr>\n",
       "    <tr>\n",
       "      <th>...</th>\n",
       "      <td>...</td>\n",
       "      <td>...</td>\n",
       "    </tr>\n",
       "    <tr>\n",
       "      <th>59613</th>\n",
       "      <td>23653940</td>\n",
       "      <td>JarAgletClassLoader(URL codebase, Certific...</td>\n",
       "    </tr>\n",
       "    <tr>\n",
       "      <th>59614</th>\n",
       "      <td>23655348</td>\n",
       "      <td>public boolean fileCompare(String from, St...</td>\n",
       "    </tr>\n",
       "    <tr>\n",
       "      <th>59615</th>\n",
       "      <td>23672349</td>\n",
       "      <td>public static byte[] calculateMD4(byte[] d...</td>\n",
       "    </tr>\n",
       "    <tr>\n",
       "      <th>59616</th>\n",
       "      <td>23672350</td>\n",
       "      <td>public static byte[] calculateMD5(byte[] d...</td>\n",
       "    </tr>\n",
       "    <tr>\n",
       "      <th>59617</th>\n",
       "      <td>23672354</td>\n",
       "      <td>public static byte[] calculateSHA1(byte[] ...</td>\n",
       "    </tr>\n",
       "  </tbody>\n",
       "</table>\n",
       "<p>59618 rows × 2 columns</p>\n",
       "</div>"
      ],
      "text/plain": [
       "              0                                                  1\n",
       "0            74      static void copy(String src, String dest) ...\n",
       "1           661      public void convert(File src, File dest) t...\n",
       "2          1362      public static int[] bubbleSort(int... a) {...\n",
       "3          1363      public static int[] bubbleSortOtimizado(in...\n",
       "4          2450      public void process(String dir) {\\n       ...\n",
       "...         ...                                                ...\n",
       "59613  23653940      JarAgletClassLoader(URL codebase, Certific...\n",
       "59614  23655348      public boolean fileCompare(String from, St...\n",
       "59615  23672349      public static byte[] calculateMD4(byte[] d...\n",
       "59616  23672350      public static byte[] calculateMD5(byte[] d...\n",
       "59617  23672354      public static byte[] calculateSHA1(byte[] ...\n",
       "\n",
       "[59618 rows x 2 columns]"
      ]
     },
     "execution_count": 5,
     "metadata": {},
     "output_type": "execute_result"
    }
   ],
   "source": [
    "all_funcs"
   ]
  },
  {
   "cell_type": "code",
   "execution_count": 6,
   "metadata": {},
   "outputs": [],
   "source": [
    "train_data, test_data = train_test_split(pair_ids, test_size=0.2, random_state=42, stratify=pair_ids[:,2]) "
   ]
  },
  {
   "cell_type": "code",
   "execution_count": 8,
   "metadata": {},
   "outputs": [
    {
     "name": "stderr",
     "output_type": "stream",
     "text": [
      "Warning : `load_model` does not return WordVectorModel or SupervisedModel any more, but a `FastText` object which is very similar.\n"
     ]
    }
   ],
   "source": [
    "code2vec = ft.load_model(\"../data/fasttext.bin\")"
   ]
  },
  {
   "cell_type": "code",
   "execution_count": 10,
   "metadata": {},
   "outputs": [],
   "source": [
    "def preproces(s):\n",
    "    s = s.lower()\n",
    "    s = s.split(\" \")\n",
    "    final = [ np.zeros(256) for _ in range(max_sequence_length)]\n",
    "    counter = 0\n",
    "    for word in s:\n",
    "        word = word.strip()\n",
    "        if len(word) > 0:\n",
    "            final[counter] = code2vec[word]\n",
    "            counter += 1 \n",
    "        if counter >= max_sequence_length:\n",
    "            break\n",
    "    return final"
   ]
  },
  {
   "cell_type": "code",
   "execution_count": 11,
   "metadata": {},
   "outputs": [],
   "source": [
    "functions = dict()\n",
    "for index, row in all_funcs.iterrows():\n",
    "    processed_function = preproces(row[1])\n",
    "    functions[int(row[0])] = processed_function"
   ]
  },
  {
   "cell_type": "code",
   "execution_count": 12,
   "metadata": {},
   "outputs": [],
   "source": [
    "def get_keras_dataset(data):\n",
    "    x = [[],[]]\n",
    "    y = []\n",
    "    for id1,id2,label in data:\n",
    "        try:\n",
    "            x[0].append(functions[id1])\n",
    "            x[1].append(functions[id2])\n",
    "            y.append(label)\n",
    "        except KeyError:\n",
    "            continue\n",
    "    x = np.array(x)\n",
    "    print(x.shape)\n",
    "    x = [x[0,:],x[1,:]]\n",
    "\n",
    "    y = to_categorical(y)\n",
    "    print(y.shape)\n",
    "    \n",
    "    return x, y"
   ]
  },
  {
   "cell_type": "code",
   "execution_count": 13,
   "metadata": {},
   "outputs": [
    {
     "name": "stdout",
     "output_type": "stream",
     "text": [
      "(2, 78013, 32, 256)\n",
      "(78013, 6)\n",
      "(2, 19502, 32, 256)\n",
      "(19502, 6)\n"
     ]
    }
   ],
   "source": [
    "x,y  = get_keras_dataset(train_data)\n",
    "test_x, test_y = get_keras_dataset(test_data)"
   ]
  },
  {
   "cell_type": "code",
   "execution_count": 14,
   "metadata": {},
   "outputs": [],
   "source": [
    "from keras.layers import *\n",
    "from keras.models import *"
   ]
  },
  {
   "cell_type": "code",
   "execution_count": 44,
   "metadata": {},
   "outputs": [],
   "source": [
    "vocab_size = len(code2vec.index2word)"
   ]
  },
  {
   "cell_type": "code",
   "execution_count": 17,
   "metadata": {},
   "outputs": [],
   "source": [
    "# embedding_layer = code2vec.get_keras_embedding(train_embeddings=False)\n",
    "# embedding_layer = Embedding(vocab_size, output_dim=embeddings_dim, input_length=max_sequence_length)\n",
    "\n",
    "lstm_layer = LSTM(embeddings_dim, dropout=0.3, recurrent_dropout=0.3)\n",
    "\n",
    "in_1 = Input(shape=(max_sequence_length, embeddings_dim))\n",
    "# emb_1 = embedding_layer(in_1)\n",
    "lstm_1 = lstm_layer(in_1)\n",
    "\n",
    "in_2 = Input(shape=(max_sequence_length, embeddings_dim))\n",
    "# emb_2 = embedding_layer(in_2)\n",
    "lstm_2 = lstm_layer(in_2)\n",
    "\n",
    "\n",
    "merged = concatenate([lstm_1, lstm_2])\n",
    "merged = BatchNormalization()(merged)\n",
    "merged = Dropout(0.3)(merged)\n",
    "merged = Dense(512, activation='relu')(merged)\n",
    "merged = BatchNormalization()(merged)\n",
    "merged = Dropout(0.3)(merged)\n",
    "preds = Dense(output_dim, activation='softmax')(merged)\n",
    "\n",
    "model = Model(inputs=[in_1, in_2], outputs=preds)"
   ]
  },
  {
   "cell_type": "code",
   "execution_count": 18,
   "metadata": {},
   "outputs": [],
   "source": [
    "model.compile(loss='categorical_crossentropy',\n",
    "              optimizer='adam', \n",
    "              metrics=['acc',tf.keras.metrics.Recall(),tf.keras.metrics.Precision()])"
   ]
  },
  {
   "cell_type": "code",
   "execution_count": 19,
   "metadata": {},
   "outputs": [
    {
     "name": "stdout",
     "output_type": "stream",
     "text": [
      "Model: \"model_1\"\n",
      "__________________________________________________________________________________________________\n",
      "Layer (type)                    Output Shape         Param #     Connected to                     \n",
      "==================================================================================================\n",
      "input_3 (InputLayer)            (None, 32, 256)      0                                            \n",
      "__________________________________________________________________________________________________\n",
      "input_4 (InputLayer)            (None, 32, 256)      0                                            \n",
      "__________________________________________________________________________________________________\n",
      "lstm_3 (LSTM)                   (None, 256)          525312      input_3[0][0]                    \n",
      "                                                                 input_4[0][0]                    \n",
      "__________________________________________________________________________________________________\n",
      "concatenate_1 (Concatenate)     (None, 512)          0           lstm_3[0][0]                     \n",
      "                                                                 lstm_3[1][0]                     \n",
      "__________________________________________________________________________________________________\n",
      "batch_normalization_1 (BatchNor (None, 512)          2048        concatenate_1[0][0]              \n",
      "__________________________________________________________________________________________________\n",
      "dropout_1 (Dropout)             (None, 512)          0           batch_normalization_1[0][0]      \n",
      "__________________________________________________________________________________________________\n",
      "dense_1 (Dense)                 (None, 512)          262656      dropout_1[0][0]                  \n",
      "__________________________________________________________________________________________________\n",
      "batch_normalization_2 (BatchNor (None, 512)          2048        dense_1[0][0]                    \n",
      "__________________________________________________________________________________________________\n",
      "dropout_2 (Dropout)             (None, 512)          0           batch_normalization_2[0][0]      \n",
      "__________________________________________________________________________________________________\n",
      "dense_2 (Dense)                 (None, 6)            3078        dropout_2[0][0]                  \n",
      "==================================================================================================\n",
      "Total params: 795,142\n",
      "Trainable params: 793,094\n",
      "Non-trainable params: 2,048\n",
      "__________________________________________________________________________________________________\n"
     ]
    }
   ],
   "source": [
    "model.summary()"
   ]
  },
  {
   "cell_type": "code",
   "execution_count": 20,
   "metadata": {},
   "outputs": [
    {
     "name": "stdout",
     "output_type": "stream",
     "text": [
      "WARNING:tensorflow:From /opt/conda/lib/python3.7/site-packages/keras/backend/tensorflow_backend.py:422: The name tf.global_variables is deprecated. Please use tf.compat.v1.global_variables instead.\n",
      "\n",
      "Train on 62410 samples, validate on 15603 samples\n",
      "Epoch 1/25\n",
      "62410/62410 [==============================] - 136s 2ms/step - loss: 0.9297 - acc: 0.6541 - recall: 0.5153 - precision: 0.6513 - val_loss: 0.6920 - val_acc: 0.7339 - val_recall: 0.5864 - val_precision: 0.7123\n",
      "Epoch 2/25\n",
      "62410/62410 [==============================] - 186s 3ms/step - loss: 0.7298 - acc: 0.7216 - recall: 0.6131 - precision: 0.7279 - val_loss: 0.6377 - val_acc: 0.7468 - val_recall: 0.6307 - val_precision: 0.7385\n",
      "Epoch 3/25\n",
      "62410/62410 [==============================] - 131s 2ms/step - loss: 0.6775 - acc: 0.7423 - recall: 0.6440 - precision: 0.7458 - val_loss: 0.6042 - val_acc: 0.7653 - val_recall: 0.6555 - val_precision: 0.7507\n",
      "Epoch 4/25\n",
      "62410/62410 [==============================] - 130s 2ms/step - loss: 0.6460 - acc: 0.7552 - recall: 0.6649 - precision: 0.7548 - val_loss: 0.5694 - val_acc: 0.7810 - val_recall: 0.6734 - val_precision: 0.7586\n",
      "Epoch 5/25\n",
      "62410/62410 [==============================] - 135s 2ms/step - loss: 0.6158 - acc: 0.7649 - recall: 0.6803 - precision: 0.7619 - val_loss: 0.5727 - val_acc: 0.7799 - val_recall: 0.6868 - val_precision: 0.7651\n",
      "Epoch 6/25\n",
      "62410/62410 [==============================] - 148s 2ms/step - loss: 0.5947 - acc: 0.7750 - recall: 0.6925 - precision: 0.7679 - val_loss: 0.5552 - val_acc: 0.7904 - val_recall: 0.6976 - val_precision: 0.7706\n",
      "Epoch 7/25\n",
      "62410/62410 [==============================] - 135s 2ms/step - loss: 0.5808 - acc: 0.7802 - recall: 0.7019 - precision: 0.7729 - val_loss: 0.5347 - val_acc: 0.7993 - val_recall: 0.7063 - val_precision: 0.7753\n",
      "Epoch 8/25\n",
      "62410/62410 [==============================] - 123s 2ms/step - loss: 0.5617 - acc: 0.7875 - recall: 0.7105 - precision: 0.7775 - val_loss: 0.5193 - val_acc: 0.8040 - val_recall: 0.7142 - val_precision: 0.7795\n",
      "Epoch 9/25\n",
      "62410/62410 [==============================] - 127s 2ms/step - loss: 0.5498 - acc: 0.7931 - recall: 0.7177 - precision: 0.7816 - val_loss: 0.5234 - val_acc: 0.8050 - val_recall: 0.7208 - val_precision: 0.7834\n",
      "Epoch 10/25\n",
      "62410/62410 [==============================] - 168s 3ms/step - loss: 0.5376 - acc: 0.7968 - recall: 0.7238 - precision: 0.7852 - val_loss: 0.5205 - val_acc: 0.8025 - val_recall: 0.7264 - val_precision: 0.7868\n",
      "Epoch 11/25\n",
      "62410/62410 [==============================] - 156s 3ms/step - loss: 0.5259 - acc: 0.8016 - recall: 0.7291 - precision: 0.7883 - val_loss: 0.5091 - val_acc: 0.8122 - val_recall: 0.7314 - val_precision: 0.7900\n",
      "Epoch 12/25\n",
      "62410/62410 [==============================] - 123s 2ms/step - loss: 0.5169 - acc: 0.8074 - recall: 0.7336 - precision: 0.7918 - val_loss: 0.4958 - val_acc: 0.8147 - val_recall: 0.7357 - val_precision: 0.7935\n",
      "Epoch 13/25\n",
      "62410/62410 [==============================] - 123s 2ms/step - loss: 0.5080 - acc: 0.8093 - recall: 0.7377 - precision: 0.7950 - val_loss: 0.4951 - val_acc: 0.8173 - val_recall: 0.7398 - val_precision: 0.7963\n",
      "Epoch 14/25\n",
      "62410/62410 [==============================] - 118s 2ms/step - loss: 0.4997 - acc: 0.8131 - recall: 0.7418 - precision: 0.7976 - val_loss: 0.4933 - val_acc: 0.8190 - val_recall: 0.7437 - val_precision: 0.7988\n",
      "Epoch 15/25\n",
      "62410/62410 [==============================] - 145s 2ms/step - loss: 0.4955 - acc: 0.8158 - recall: 0.7456 - precision: 0.8000 - val_loss: 0.4845 - val_acc: 0.8238 - val_recall: 0.7473 - val_precision: 0.8010\n",
      "Epoch 16/25\n",
      "62410/62410 [==============================] - 135s 2ms/step - loss: 0.4893 - acc: 0.8163 - recall: 0.7490 - precision: 0.8021 - val_loss: 0.4939 - val_acc: 0.8200 - val_recall: 0.7504 - val_precision: 0.8032\n",
      "Epoch 17/25\n",
      "62410/62410 [==============================] - 126s 2ms/step - loss: 0.4811 - acc: 0.8199 - recall: 0.7518 - precision: 0.8044 - val_loss: 0.4852 - val_acc: 0.8239 - val_recall: 0.7531 - val_precision: 0.8055\n",
      "Epoch 18/25\n",
      "62410/62410 [==============================] - 178s 3ms/step - loss: 0.4761 - acc: 0.8223 - recall: 0.7544 - precision: 0.8066 - val_loss: 0.4822 - val_acc: 0.8255 - val_recall: 0.7558 - val_precision: 0.8075\n",
      "Epoch 19/25\n",
      "62410/62410 [==============================] - 179s 3ms/step - loss: 0.4718 - acc: 0.8230 - recall: 0.7572 - precision: 0.8083 - val_loss: 0.4782 - val_acc: 0.8244 - val_recall: 0.7583 - val_precision: 0.8093\n",
      "Epoch 20/25\n",
      "62410/62410 [==============================] - 127s 2ms/step - loss: 0.4644 - acc: 0.8265 - recall: 0.7594 - precision: 0.8103 - val_loss: 0.4862 - val_acc: 0.8260 - val_recall: 0.7606 - val_precision: 0.8110\n",
      "Epoch 21/25\n",
      "62410/62410 [==============================] - 118s 2ms/step - loss: 0.4616 - acc: 0.8281 - recall: 0.7618 - precision: 0.8118 - val_loss: 0.4744 - val_acc: 0.8312 - val_recall: 0.7630 - val_precision: 0.8126\n",
      "Epoch 22/25\n",
      "62410/62410 [==============================] - 126s 2ms/step - loss: 0.4570 - acc: 0.8290 - recall: 0.7641 - precision: 0.8134 - val_loss: 0.4786 - val_acc: 0.8252 - val_recall: 0.7651 - val_precision: 0.8142\n",
      "Epoch 23/25\n",
      "62410/62410 [==============================] - 131s 2ms/step - loss: 0.4521 - acc: 0.8321 - recall: 0.7661 - precision: 0.8149 - val_loss: 0.4826 - val_acc: 0.8252 - val_recall: 0.7671 - val_precision: 0.8156\n",
      "Epoch 24/25\n",
      "62410/62410 [==============================] - 137s 2ms/step - loss: 0.4499 - acc: 0.8320 - recall: 0.7681 - precision: 0.8163 - val_loss: 0.4734 - val_acc: 0.8296 - val_recall: 0.7690 - val_precision: 0.8170\n",
      "Epoch 25/25\n",
      "62410/62410 [==============================] - 126s 2ms/step - loss: 0.4482 - acc: 0.8339 - recall: 0.7698 - precision: 0.8178 - val_loss: 0.4773 - val_acc: 0.8268 - val_recall: 0.7706 - val_precision: 0.8185\n"
     ]
    },
    {
     "data": {
      "text/plain": [
       "<keras.callbacks.callbacks.History at 0x7fb7936ebb50>"
      ]
     },
     "execution_count": 20,
     "metadata": {},
     "output_type": "execute_result"
    }
   ],
   "source": [
    "model.fit(x,\n",
    "          y,\n",
    "          initial_epoch=0,\n",
    "          epochs=25,\n",
    "          validation_split=0.2,\n",
    "          batch_size=64,\n",
    "          shuffle=True)"
   ]
  },
  {
   "cell_type": "code",
   "execution_count": 21,
   "metadata": {},
   "outputs": [
    {
     "name": "stdout",
     "output_type": "stream",
     "text": [
      "19502/19502 [==============================] - 16s 822us/step\n"
     ]
    },
    {
     "data": {
      "text/plain": [
       "[0.48474594374862456,\n",
       " 0.8235565423965454,\n",
       " 0.7708112597465515,\n",
       " 0.8187830448150635]"
      ]
     },
     "execution_count": 21,
     "metadata": {},
     "output_type": "execute_result"
    }
   ],
   "source": [
    "model.evaluate(test_x, test_y)"
   ]
  },
  {
   "cell_type": "code",
   "execution_count": null,
   "metadata": {},
   "outputs": [],
   "source": []
  },
  {
   "cell_type": "code",
   "execution_count": null,
   "metadata": {},
   "outputs": [],
   "source": []
  }
 ],
 "metadata": {
  "kernelspec": {
   "display_name": "Python 3",
   "language": "python",
   "name": "python3"
  },
  "language_info": {
   "codemirror_mode": {
    "name": "ipython",
    "version": 3
   },
   "file_extension": ".py",
   "mimetype": "text/x-python",
   "name": "python",
   "nbconvert_exporter": "python",
   "pygments_lexer": "ipython3",
   "version": "3.7.7"
  }
 },
 "nbformat": 4,
 "nbformat_minor": 2
}
