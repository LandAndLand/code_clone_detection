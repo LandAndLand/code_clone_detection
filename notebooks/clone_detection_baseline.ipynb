{
 "cells": [
  {
   "cell_type": "code",
   "execution_count": 1,
   "metadata": {},
   "outputs": [
    {
     "name": "stderr",
     "output_type": "stream",
     "text": [
      "Using TensorFlow backend.\n"
     ]
    }
   ],
   "source": [
    "import tensorflow as tf\n",
    "# import tensorflow_addons as tfa\n",
    "import keras\n",
    "import pandas as pd\n",
    "import pickle\n",
    "import string\n",
    "import numpy as np\n",
    "from gensim.models import KeyedVectors as word2vec\n",
    "from keras.utils import to_categorical\n",
    "from sklearn.model_selection import train_test_split"
   ]
  },
  {
   "cell_type": "code",
   "execution_count": 2,
   "metadata": {},
   "outputs": [],
   "source": [
    "vectors_text_path = '../data/target_vecs.txt'\n",
    "all_funcs_data_path = '../data/bcb_funcs_all.tsv'\n",
    "pairs_id_path = '../data/bcb_pair_ids.pkl'"
   ]
  },
  {
   "cell_type": "code",
   "execution_count": 3,
   "metadata": {},
   "outputs": [],
   "source": [
    "embeddings_dim = 384\n",
    "max_sequence_length = 32\n",
    "output_dim = 6"
   ]
  },
  {
   "cell_type": "code",
   "execution_count": 4,
   "metadata": {},
   "outputs": [],
   "source": [
    "all_funcs = pd.read_csv(all_funcs_data_path, delimiter=\"\\t\",header=None)\n",
    "with open(pairs_id_path, 'rb') as f:\n",
    "    pair_ids = pickle.load(f).to_numpy()"
   ]
  },
  {
   "cell_type": "code",
   "execution_count": 5,
   "metadata": {},
   "outputs": [
    {
     "data": {
      "text/html": [
       "<div>\n",
       "<style scoped>\n",
       "    .dataframe tbody tr th:only-of-type {\n",
       "        vertical-align: middle;\n",
       "    }\n",
       "\n",
       "    .dataframe tbody tr th {\n",
       "        vertical-align: top;\n",
       "    }\n",
       "\n",
       "    .dataframe thead th {\n",
       "        text-align: right;\n",
       "    }\n",
       "</style>\n",
       "<table border=\"1\" class=\"dataframe\">\n",
       "  <thead>\n",
       "    <tr style=\"text-align: right;\">\n",
       "      <th></th>\n",
       "      <th>0</th>\n",
       "      <th>1</th>\n",
       "    </tr>\n",
       "  </thead>\n",
       "  <tbody>\n",
       "    <tr>\n",
       "      <th>0</th>\n",
       "      <td>74</td>\n",
       "      <td>static void copy(String src, String dest) ...</td>\n",
       "    </tr>\n",
       "    <tr>\n",
       "      <th>1</th>\n",
       "      <td>661</td>\n",
       "      <td>public void convert(File src, File dest) t...</td>\n",
       "    </tr>\n",
       "    <tr>\n",
       "      <th>2</th>\n",
       "      <td>1362</td>\n",
       "      <td>public static int[] bubbleSort(int... a) {...</td>\n",
       "    </tr>\n",
       "    <tr>\n",
       "      <th>3</th>\n",
       "      <td>1363</td>\n",
       "      <td>public static int[] bubbleSortOtimizado(in...</td>\n",
       "    </tr>\n",
       "    <tr>\n",
       "      <th>4</th>\n",
       "      <td>2450</td>\n",
       "      <td>public void process(String dir) {\\n       ...</td>\n",
       "    </tr>\n",
       "    <tr>\n",
       "      <th>...</th>\n",
       "      <td>...</td>\n",
       "      <td>...</td>\n",
       "    </tr>\n",
       "    <tr>\n",
       "      <th>59613</th>\n",
       "      <td>23653940</td>\n",
       "      <td>JarAgletClassLoader(URL codebase, Certific...</td>\n",
       "    </tr>\n",
       "    <tr>\n",
       "      <th>59614</th>\n",
       "      <td>23655348</td>\n",
       "      <td>public boolean fileCompare(String from, St...</td>\n",
       "    </tr>\n",
       "    <tr>\n",
       "      <th>59615</th>\n",
       "      <td>23672349</td>\n",
       "      <td>public static byte[] calculateMD4(byte[] d...</td>\n",
       "    </tr>\n",
       "    <tr>\n",
       "      <th>59616</th>\n",
       "      <td>23672350</td>\n",
       "      <td>public static byte[] calculateMD5(byte[] d...</td>\n",
       "    </tr>\n",
       "    <tr>\n",
       "      <th>59617</th>\n",
       "      <td>23672354</td>\n",
       "      <td>public static byte[] calculateSHA1(byte[] ...</td>\n",
       "    </tr>\n",
       "  </tbody>\n",
       "</table>\n",
       "<p>59618 rows × 2 columns</p>\n",
       "</div>"
      ],
      "text/plain": [
       "              0                                                  1\n",
       "0            74      static void copy(String src, String dest) ...\n",
       "1           661      public void convert(File src, File dest) t...\n",
       "2          1362      public static int[] bubbleSort(int... a) {...\n",
       "3          1363      public static int[] bubbleSortOtimizado(in...\n",
       "4          2450      public void process(String dir) {\\n       ...\n",
       "...         ...                                                ...\n",
       "59613  23653940      JarAgletClassLoader(URL codebase, Certific...\n",
       "59614  23655348      public boolean fileCompare(String from, St...\n",
       "59615  23672349      public static byte[] calculateMD4(byte[] d...\n",
       "59616  23672350      public static byte[] calculateMD5(byte[] d...\n",
       "59617  23672354      public static byte[] calculateSHA1(byte[] ...\n",
       "\n",
       "[59618 rows x 2 columns]"
      ]
     },
     "execution_count": 5,
     "metadata": {},
     "output_type": "execute_result"
    }
   ],
   "source": [
    "all_funcs"
   ]
  },
  {
   "cell_type": "code",
   "execution_count": 7,
   "metadata": {},
   "outputs": [],
   "source": [
    "train_data, test_data = train_test_split(pair_ids, test_size=0.2, random_state=42, stratify=pair_ids[:,2]) "
   ]
  },
  {
   "cell_type": "code",
   "execution_count": 8,
   "metadata": {},
   "outputs": [],
   "source": [
    "code2vec = word2vec.load_word2vec_format(vectors_text_path, binary=False)"
   ]
  },
  {
   "cell_type": "code",
   "execution_count": 9,
   "metadata": {},
   "outputs": [],
   "source": [
    "def preproces(s):\n",
    "    s = s.lower()\n",
    "    s = s.translate(str.maketrans(string.punctuation, ' '*len(string.punctuation)))\n",
    "    s = s.split(\" \")\n",
    "    final = [0 for _ in range(max_sequence_length)]\n",
    "    counter = 0\n",
    "    for word in s:\n",
    "        word = word.strip()\n",
    "        if len(word) > 0 and word in code2vec:\n",
    "            final[counter] = code2vec.vocab[word].index\n",
    "            counter += 1\n",
    "        \n",
    "        if counter >= max_sequence_length:\n",
    "            break\n",
    "    return final"
   ]
  },
  {
   "cell_type": "code",
   "execution_count": 10,
   "metadata": {},
   "outputs": [],
   "source": [
    "functions = dict()\n",
    "for index, row in all_funcs.iterrows():\n",
    "    processed_function = preproces(row[1])\n",
    "    functions[int(row[0])] = processed_function"
   ]
  },
  {
   "cell_type": "code",
   "execution_count": 11,
   "metadata": {},
   "outputs": [],
   "source": [
    "def get_keras_dataset(data):\n",
    "    x = [[],[]]\n",
    "    y = []\n",
    "    for id1,id2,label in data:\n",
    "        try:\n",
    "            x[0].append(functions[id1])\n",
    "            x[1].append(functions[id2])\n",
    "            y.append(label)\n",
    "        except KeyError:\n",
    "            continue\n",
    "    x = np.array(x)\n",
    "    print(x.shape)\n",
    "    x = [x[0,:],x[1,:]]\n",
    "\n",
    "    y = to_categorical(y)\n",
    "    print(y.shape)\n",
    "    \n",
    "    return x, y"
   ]
  },
  {
   "cell_type": "code",
   "execution_count": 12,
   "metadata": {},
   "outputs": [
    {
     "name": "stdout",
     "output_type": "stream",
     "text": [
      "(2, 78013, 32)\n",
      "(78013, 6)\n",
      "(2, 19502, 32)\n",
      "(19502, 6)\n"
     ]
    }
   ],
   "source": [
    "x,y  = get_keras_dataset(train_data)\n",
    "test_x, test_y = get_keras_dataset(test_data)"
   ]
  },
  {
   "cell_type": "code",
   "execution_count": 13,
   "metadata": {},
   "outputs": [],
   "source": [
    "from keras.layers import *\n",
    "from keras.models import *"
   ]
  },
  {
   "cell_type": "code",
   "execution_count": 44,
   "metadata": {},
   "outputs": [],
   "source": [
    "vocab_size = len(code2vec.index2word)"
   ]
  },
  {
   "cell_type": "code",
   "execution_count": 45,
   "metadata": {},
   "outputs": [],
   "source": [
    "embedding_layer = code2vec.get_keras_embedding(train_embeddings=False)\n",
    "embedding_layer = Embedding(vocab_size, output_dim=embeddings_dim, input_length=max_sequence_length)\n",
    "\n",
    "lstm_layer = LSTM(embeddings_dim, dropout=0.3, recurrent_dropout=0.3)\n",
    "\n",
    "in_1 = Input(shape=(max_sequence_length,), dtype='int32')\n",
    "emb_1 = embedding_layer(in_1)\n",
    "lstm_1 = lstm_layer(emb_1)\n",
    "\n",
    "in_2 = Input(shape=(max_sequence_length,), dtype='int32')\n",
    "emb_2 = embedding_layer(in_2)\n",
    "lstm_2 = lstm_layer(emb_2)\n",
    "\n",
    "\n",
    "merged = concatenate([lstm_1, lstm_2])\n",
    "merged = BatchNormalization()(merged)\n",
    "merged = Dropout(0.3)(merged)\n",
    "merged = Dense(512, activation='relu')(merged)\n",
    "merged = BatchNormalization()(merged)\n",
    "merged = Dropout(0.3)(merged)\n",
    "preds = Dense(output_dim, activation='softmax')(merged)\n",
    "\n",
    "model = Model(inputs=[in_1, in_2], outputs=preds)"
   ]
  },
  {
   "cell_type": "code",
   "execution_count": 46,
   "metadata": {},
   "outputs": [],
   "source": [
    "model.compile(loss='categorical_crossentropy',\n",
    "              optimizer='adam', \n",
    "              metrics=['acc',tf.keras.metrics.Recall(),tf.keras.metrics.Precision()])"
   ]
  },
  {
   "cell_type": "code",
   "execution_count": 47,
   "metadata": {},
   "outputs": [
    {
     "name": "stdout",
     "output_type": "stream",
     "text": [
      "Model: \"model_3\"\n",
      "__________________________________________________________________________________________________\n",
      "Layer (type)                    Output Shape         Param #     Connected to                     \n",
      "==================================================================================================\n",
      "input_5 (InputLayer)            (None, 32)           0                                            \n",
      "__________________________________________________________________________________________________\n",
      "input_6 (InputLayer)            (None, 32)           0                                            \n",
      "__________________________________________________________________________________________________\n",
      "embedding_4 (Embedding)         (None, 32, 384)      117451392   input_5[0][0]                    \n",
      "                                                                 input_6[0][0]                    \n",
      "__________________________________________________________________________________________________\n",
      "lstm_3 (LSTM)                   (None, 384)          1181184     embedding_4[0][0]                \n",
      "                                                                 embedding_4[1][0]                \n",
      "__________________________________________________________________________________________________\n",
      "concatenate_3 (Concatenate)     (None, 768)          0           lstm_3[0][0]                     \n",
      "                                                                 lstm_3[1][0]                     \n",
      "__________________________________________________________________________________________________\n",
      "batch_normalization_5 (BatchNor (None, 768)          3072        concatenate_3[0][0]              \n",
      "__________________________________________________________________________________________________\n",
      "dropout_5 (Dropout)             (None, 768)          0           batch_normalization_5[0][0]      \n",
      "__________________________________________________________________________________________________\n",
      "dense_5 (Dense)                 (None, 512)          393728      dropout_5[0][0]                  \n",
      "__________________________________________________________________________________________________\n",
      "batch_normalization_6 (BatchNor (None, 512)          2048        dense_5[0][0]                    \n",
      "__________________________________________________________________________________________________\n",
      "dropout_6 (Dropout)             (None, 512)          0           batch_normalization_6[0][0]      \n",
      "__________________________________________________________________________________________________\n",
      "dense_6 (Dense)                 (None, 6)            3078        dropout_6[0][0]                  \n",
      "==================================================================================================\n",
      "Total params: 119,034,502\n",
      "Trainable params: 119,031,942\n",
      "Non-trainable params: 2,560\n",
      "__________________________________________________________________________________________________\n"
     ]
    }
   ],
   "source": [
    "model.summary()"
   ]
  },
  {
   "cell_type": "code",
   "execution_count": 50,
   "metadata": {},
   "outputs": [
    {
     "name": "stdout",
     "output_type": "stream",
     "text": [
      "Train on 62410 samples, validate on 15603 samples\n",
      "Epoch 1/25\n",
      "62410/62410 [==============================] - 241s 4ms/step - loss: 0.9079 - acc: 0.6720 - recall_5: 0.5240 - precision_5: 0.6660 - val_loss: 0.6728 - val_acc: 0.7788 - val_recall_5: 0.6066 - val_precision_5: 0.7273\n",
      "Epoch 2/25\n",
      "62410/62410 [==============================] - 240s 4ms/step - loss: 0.6476 - acc: 0.7753 - recall_5: 0.6496 - precision_5: 0.7531 - val_loss: 0.5775 - val_acc: 0.7941 - val_recall_5: 0.6780 - val_precision_5: 0.7670\n",
      "Epoch 3/25\n",
      "62410/62410 [==============================] - 243s 4ms/step - loss: 0.5833 - acc: 0.7962 - recall_5: 0.6973 - precision_5: 0.7766 - val_loss: 0.5546 - val_acc: 0.8093 - val_recall_5: 0.7113 - val_precision_5: 0.7837\n",
      "Epoch 4/25\n",
      "62410/62410 [==============================] - 232s 4ms/step - loss: 0.5373 - acc: 0.8114 - recall_5: 0.7229 - precision_5: 0.7904 - val_loss: 0.5411 - val_acc: 0.8126 - val_recall_5: 0.7320 - val_precision_5: 0.7951\n",
      "Epoch 5/25\n",
      "62410/62410 [==============================] - 242s 4ms/step - loss: 0.4962 - acc: 0.8230 - recall_5: 0.7400 - precision_5: 0.7998 - val_loss: 0.5322 - val_acc: 0.8198 - val_recall_5: 0.7464 - val_precision_5: 0.8037\n",
      "Epoch 6/25\n",
      "62410/62410 [==============================] - 237s 4ms/step - loss: 0.4635 - acc: 0.8334 - recall_5: 0.7525 - precision_5: 0.8077 - val_loss: 0.5274 - val_acc: 0.8232 - val_recall_5: 0.7579 - val_precision_5: 0.8109\n",
      "Epoch 7/25\n",
      "62410/62410 [==============================] - 240s 4ms/step - loss: 0.4305 - acc: 0.8440 - recall_5: 0.7633 - precision_5: 0.8144 - val_loss: 0.5280 - val_acc: 0.8255 - val_recall_5: 0.7676 - val_precision_5: 0.8172\n",
      "Epoch 8/25\n",
      "62410/62410 [==============================] - 240s 4ms/step - loss: 0.4018 - acc: 0.8522 - recall_5: 0.7721 - precision_5: 0.8202 - val_loss: 0.5303 - val_acc: 0.8300 - val_recall_5: 0.7760 - val_precision_5: 0.8227\n",
      "Epoch 9/25\n",
      "62410/62410 [==============================] - 245s 4ms/step - loss: 0.3770 - acc: 0.8618 - recall_5: 0.7801 - precision_5: 0.8254 - val_loss: 0.5336 - val_acc: 0.8302 - val_recall_5: 0.7836 - val_precision_5: 0.8277\n",
      "Epoch 10/25\n",
      "62410/62410 [==============================] - 244s 4ms/step - loss: 0.3567 - acc: 0.8682 - recall_5: 0.7871 - precision_5: 0.8301 - val_loss: 0.5807 - val_acc: 0.8312 - val_recall_5: 0.7902 - val_precision_5: 0.8321\n",
      "Epoch 11/25\n",
      "62410/62410 [==============================] - 244s 4ms/step - loss: 0.3408 - acc: 0.8740 - recall_5: 0.7935 - precision_5: 0.8343 - val_loss: 0.5640 - val_acc: 0.8329 - val_recall_5: 0.7962 - val_precision_5: 0.8360\n",
      "Epoch 12/25\n",
      "62410/62410 [==============================] - 243s 4ms/step - loss: 0.3212 - acc: 0.8807 - recall_5: 0.7992 - precision_5: 0.8380 - val_loss: 0.5900 - val_acc: 0.8315 - val_recall_5: 0.8018 - val_precision_5: 0.8397\n",
      "Epoch 13/25\n",
      "62410/62410 [==============================] - 241s 4ms/step - loss: 0.3076 - acc: 0.8837 - recall_5: 0.8044 - precision_5: 0.8415 - val_loss: 0.5861 - val_acc: 0.8347 - val_recall_5: 0.8067 - val_precision_5: 0.8430\n",
      "Epoch 14/25\n",
      "62410/62410 [==============================] - 246s 4ms/step - loss: 0.2999 - acc: 0.8871 - recall_5: 0.8091 - precision_5: 0.8446 - val_loss: 0.6106 - val_acc: 0.8350 - val_recall_5: 0.8112 - val_precision_5: 0.8460\n",
      "Epoch 15/25\n",
      "62410/62410 [==============================] - 245s 4ms/step - loss: 0.2851 - acc: 0.8916 - recall_5: 0.8134 - precision_5: 0.8475 - val_loss: 0.6263 - val_acc: 0.8373 - val_recall_5: 0.8154 - val_precision_5: 0.8488\n",
      "Epoch 16/25\n",
      "62410/62410 [==============================] - 242s 4ms/step - loss: 0.2742 - acc: 0.8968 - recall_5: 0.8175 - precision_5: 0.8502 - val_loss: 0.6411 - val_acc: 0.8402 - val_recall_5: 0.8194 - val_precision_5: 0.8515\n",
      "Epoch 17/25\n",
      "62410/62410 [==============================] - 242s 4ms/step - loss: 0.2658 - acc: 0.9012 - recall_5: 0.8214 - precision_5: 0.8529 - val_loss: 0.6704 - val_acc: 0.8369 - val_recall_5: 0.8232 - val_precision_5: 0.8541\n",
      "Epoch 18/25\n",
      "62410/62410 [==============================] - 239s 4ms/step - loss: 0.2576 - acc: 0.9027 - recall_5: 0.8250 - precision_5: 0.8554 - val_loss: 0.6590 - val_acc: 0.8480 - val_recall_5: 0.8266 - val_precision_5: 0.8565\n",
      "Epoch 19/25\n",
      "62410/62410 [==============================] - 242s 4ms/step - loss: 0.2523 - acc: 0.9049 - recall_5: 0.8283 - precision_5: 0.8577 - val_loss: 0.6883 - val_acc: 0.8386 - val_recall_5: 0.8298 - val_precision_5: 0.8587\n",
      "Epoch 20/25\n",
      "62410/62410 [==============================] - 245s 4ms/step - loss: 0.2460 - acc: 0.9073 - recall_5: 0.8314 - precision_5: 0.8598 - val_loss: 0.6864 - val_acc: 0.8429 - val_recall_5: 0.8328 - val_precision_5: 0.8608\n",
      "Epoch 21/25\n",
      "62410/62410 [==============================] - 242s 4ms/step - loss: 0.2360 - acc: 0.9121 - recall_5: 0.8343 - precision_5: 0.8619 - val_loss: 0.6856 - val_acc: 0.8425 - val_recall_5: 0.8357 - val_precision_5: 0.8628\n",
      "Epoch 22/25\n",
      "62410/62410 [==============================] - 246s 4ms/step - loss: 0.2320 - acc: 0.9134 - recall_5: 0.8371 - precision_5: 0.8638 - val_loss: 0.6775 - val_acc: 0.8398 - val_recall_5: 0.8384 - val_precision_5: 0.8647\n",
      "Epoch 23/25\n",
      "62410/62410 [==============================] - 245s 4ms/step - loss: 0.2281 - acc: 0.9146 - recall_5: 0.8397 - precision_5: 0.8656 - val_loss: 0.7127 - val_acc: 0.8411 - val_recall_5: 0.8409 - val_precision_5: 0.8664\n",
      "Epoch 24/25\n",
      "62410/62410 [==============================] - 243s 4ms/step - loss: 0.2188 - acc: 0.9180 - recall_5: 0.8421 - precision_5: 0.8674 - val_loss: 0.7112 - val_acc: 0.8398 - val_recall_5: 0.8433 - val_precision_5: 0.8681\n",
      "Epoch 25/25\n",
      "62410/62410 [==============================] - 244s 4ms/step - loss: 0.2172 - acc: 0.9175 - recall_5: 0.8444 - precision_5: 0.8690 - val_loss: 0.7645 - val_acc: 0.8435 - val_recall_5: 0.8455 - val_precision_5: 0.8697\n"
     ]
    },
    {
     "data": {
      "text/plain": [
       "<keras.callbacks.callbacks.History at 0x7f549c41d4a8>"
      ]
     },
     "execution_count": 50,
     "metadata": {},
     "output_type": "execute_result"
    }
   ],
   "source": [
    "model.fit(x,\n",
    "          y,\n",
    "          initial_epoch=0,\n",
    "          epochs=25,\n",
    "          validation_split=0.2,\n",
    "          batch_size=64,\n",
    "          shuffle=True)"
   ]
  },
  {
   "cell_type": "code",
   "execution_count": 51,
   "metadata": {},
   "outputs": [
    {
     "name": "stdout",
     "output_type": "stream",
     "text": [
      "19502/19502 [==============================] - 11s 583us/step\n"
     ]
    },
    {
     "data": {
      "text/plain": [
       "[0.8106748863417435,\n",
       " 0.8386319279670715,\n",
       " 0.8454188704490662,\n",
       " 0.8694714903831482]"
      ]
     },
     "execution_count": 51,
     "metadata": {},
     "output_type": "execute_result"
    }
   ],
   "source": [
    "model.evaluate(test_x, test_y)"
   ]
  },
  {
   "cell_type": "code",
   "execution_count": null,
   "metadata": {},
   "outputs": [],
   "source": []
  },
  {
   "cell_type": "code",
   "execution_count": null,
   "metadata": {},
   "outputs": [],
   "source": []
  }
 ],
 "metadata": {
  "kernelspec": {
   "display_name": "Python 3",
   "language": "python",
   "name": "python3"
  },
  "language_info": {
   "codemirror_mode": {
    "name": "ipython",
    "version": 3
   },
   "file_extension": ".py",
   "mimetype": "text/x-python",
   "name": "python",
   "nbconvert_exporter": "python",
   "pygments_lexer": "ipython3",
   "version": "3.7.7"
  }
 },
 "nbformat": 4,
 "nbformat_minor": 2
}
