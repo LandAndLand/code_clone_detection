{
 "metadata": {
  "language_info": {
   "codemirror_mode": {
    "name": "ipython",
    "version": 3
   },
   "file_extension": ".py",
   "mimetype": "text/x-python",
   "name": "python",
   "nbconvert_exporter": "python",
   "pygments_lexer": "ipython3",
   "version": "3.8.6-final"
  },
  "orig_nbformat": 2,
  "kernelspec": {
   "name": "python3",
   "display_name": "Python 3.8.6 64-bit ('normal')",
   "metadata": {
    "interpreter": {
     "hash": "f00aa4d08b5dbe9a4f4240f8270de016ce9f4f5bdff9dc19e01b094329a335d5"
    }
   }
  }
 },
 "nbformat": 4,
 "nbformat_minor": 2,
 "cells": [
  {
   "source": [
    "## 先下载别人预处理好的数据"
   ],
   "cell_type": "markdown",
   "metadata": {}
  },
  {
   "cell_type": "code",
   "execution_count": 1,
   "metadata": {},
   "outputs": [],
   "source": [
    "# 执行download_vectors.sh"
   ]
  },
  {
   "cell_type": "code",
   "execution_count": 2,
   "metadata": {},
   "outputs": [],
   "source": [
    "from pathlib import Path\n",
    "\n",
    "target_vecs_path = Path('data/target_vecs.txt')\n",
    "token_vecs_path = Path('data/token_vecs.txt')\n",
    "with target_vecs_path.open('r',encoding='utf-8') as f:\n",
    "  target = f.read()\n",
    "with token_vecs_path.open('r',encoding='utf-8') as ftoken:\n",
    "  token = ftoken.read()\n",
    "#print(token)\n",
    "#print(target)\n",
    "# print(len(target)) # 1351844868\n",
    "# print(len(token)) # 1937634090"
   ]
  },
  {
   "source": [
    "# 设置路径"
   ],
   "cell_type": "markdown",
   "metadata": {}
  },
  {
   "cell_type": "code",
   "execution_count": 3,
   "metadata": {},
   "outputs": [],
   "source": [
    "vectors_text_path = 'data/target_vecs.txt'\n",
    "all_funcs_data_path = 'data/bcb_funcs_all.tsv'\n",
    "pairs_id_path = 'data/bcb_pair_ids.pkl'\n",
    "# 上面设置好的编译\n",
    "parser_path = 'data/java.so'"
   ]
  },
  {
   "cell_type": "code",
   "execution_count": 4,
   "metadata": {},
   "outputs": [
    {
     "output_type": "stream",
     "name": "stdout",
     "text": [
      "384\n"
     ]
    }
   ],
   "source": [
    "from gensim.models import KeyedVectors as word2vec\n",
    "\n",
    "code2vec = word2vec.load_word2vec_format(vectors_text_path, binary=False)\n",
    "print(code2vec.vector_size) #384\n",
    "#print(code2vec.vectors)"
   ]
  },
  {
   "source": [
    "# 读取源代码文件\n",
    "其中，all_funcs_data 是id，source_code形式；pairs_id是代码id1，id2，label形式"
   ],
   "cell_type": "markdown",
   "metadata": {}
  },
  {
   "cell_type": "code",
   "execution_count": 23,
   "metadata": {},
   "outputs": [
    {
     "output_type": "stream",
     "name": "stdout",
     "text": [
      "              0                                                  1\n0            74      static void copy(String src, String dest) ...\n1           661      public void convert(File src, File dest) t...\n2          1362      public static int[] bubbleSort(int... a) {...\n3          1363      public static int[] bubbleSortOtimizado(in...\n4          2450      public void process(String dir) {\\r\\n     ...\n...         ...                                                ...\n59613  23653940      JarAgletClassLoader(URL codebase, Certific...\n59614  23655348      public boolean fileCompare(String from, St...\n59615  23672349      public static byte[] calculateMD4(byte[] d...\n59616  23672350      public static byte[] calculateMD5(byte[] d...\n59617  23672354      public static byte[] calculateSHA1(byte[] ...\n\n[59618 rows x 2 columns]\n"
     ]
    }
   ],
   "source": [
    "import pandas as pd\n",
    "import pickle\n",
    "\n",
    "# all_funcs是一个表格数据59618*2，第一列代表func的id，第二列是func_content(内容是源代码)\n",
    "all_funcs = pd.read_csv(all_funcs_data_path, delimiter=\"\\t\",header=None)\n",
    "print(all_funcs)\n",
    "# pairs_id_path有监督训练文件，每一条数据的内容是 id1，id2,0/1(代表是否相似)\n",
    "with open(pairs_id_path, 'rb') as f:\n",
    "    pair_ids = pickle.load(f).to_numpy()\n"
   ]
  },
  {
   "cell_type": "code",
   "execution_count": null,
   "metadata": {},
   "outputs": [],
   "source": [
    "vectors_text_path = 'data/target_vecs.txt'\n",
    "all_funcs_data_path = 'data/bcb_funcs_all.tsv'\n",
    "pairs_id_path = 'data/bcb_pair_ids.pkl'\n",
    "# 上面设置好的编译\n",
    "parser_path = 'data/java.so'"
   ]
  }
 ]
}